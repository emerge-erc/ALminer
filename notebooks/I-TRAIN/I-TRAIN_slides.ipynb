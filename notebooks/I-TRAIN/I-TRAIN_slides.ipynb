{
 "cells": [
  {
   "cell_type": "markdown",
   "id": "fc0fe8b5",
   "metadata": {
    "heading_collapsed": true,
    "slideshow": {
     "slide_type": "slide"
    }
   },
   "source": [
    "# Exploring the ALMA Science Archive with\n",
    "<img src=\"images/ALminer_logo_header.jpg\" alt=\"ALminer\" align=\"left\" style=\"width:90%\"/>"
   ]
  },
  {
   "cell_type": "markdown",
   "id": "e57c5860",
   "metadata": {
    "slideshow": {
     "slide_type": "subslide"
    }
   },
   "source": [
    "# Who we are\n",
    "<img src=\"images/who_we_are.png\" align=\"left\" style=\"width:75%\"/>"
   ]
  },
  {
   "cell_type": "markdown",
   "id": "9bc31666",
   "metadata": {
    "rise": {
     "backimage": "Allegro_logo.png"
    },
    "slideshow": {
     "slide_type": "subslide"
    }
   },
   "source": [
    "# What is ALminer \n",
    "\n",
    "* Python-based code to effectively query, analyse, and visualise the ALMA science archive \n",
    "<img src=\"images/what_is_alminer.jpeg\" align=\"left\" style=\"width:90%\"/>"
   ]
  },
  {
   "cell_type": "markdown",
   "id": "c34dcd84",
   "metadata": {
    "slideshow": {
     "slide_type": "fragment"
    }
   },
   "source": [
    "* Bonus: directly download ALMA data products and/or raw data for further image processing."
   ]
  },
  {
   "cell_type": "markdown",
   "id": "251daca5",
   "metadata": {
    "slideshow": {
     "slide_type": "subslide"
    }
   },
   "source": [
    "# Where to find ALminer\n",
    "\n",
    " - #### Documentation: https://alminer.readthedocs.io/\n",
    " - #### GitHub: https://github.com/emerge-erc/ALminer"
   ]
  },
  {
   "cell_type": "markdown",
   "id": "8e1b5eb3",
   "metadata": {
    "slideshow": {
     "slide_type": "subslide"
    }
   },
   "source": [
    "# Installation\n",
    "\n",
    "It's as simple as\n",
    "\n",
    "<code> > pip install alminer </code>"
   ]
  },
  {
   "cell_type": "markdown",
   "id": "7536c3f1",
   "metadata": {
    "slideshow": {
     "slide_type": "fragment"
    }
   },
   "source": [
    "## Dependencies\n",
    "\n",
    "* ALminer works in Python>=3.6\n",
    "* We depend on `numpy`, `matplotlib`, `pandas`, `pyvo`, & `astropy`\n",
    "* For the data download, we rely on `astroquery`"
   ]
  },
  {
   "cell_type": "markdown",
   "id": "b7894446",
   "metadata": {
    "slideshow": {
     "slide_type": "subslide"
    }
   },
   "source": [
    "# Let's get started...\n",
    "\n",
    "* This presentation is a live Jupyter Notebook so you can follow along with me!\n",
    "* Each cell can be executed by pressing <kbd>Shift</kbd>+<kbd>Enter</kbd>"
   ]
  },
  {
   "cell_type": "markdown",
   "id": "b629f531",
   "metadata": {
    "slideshow": {
     "slide_type": "slide"
    }
   },
   "source": [
    "# Tutorial outline\n",
    "1. [Query tools](#query)<br>\n",
    "2. [Filter & explore results](#analysis)<br>\n",
    "3. [Plot results](#results)<br>\n",
    "4. [Create reports](#reports)<br>\n",
    "5. [Download data](#download)<br>\n",
    "6. [Advanced query features](#advanced)<br>"
   ]
  },
  {
   "cell_type": "markdown",
   "id": "dbf81d82",
   "metadata": {
    "slideshow": {
     "slide_type": "subslide"
    }
   },
   "source": [
    "# We first need to import all the relevant packages"
   ]
  },
  {
   "cell_type": "code",
   "execution_count": 1,
   "id": "a335f9f6",
   "metadata": {
    "slideshow": {
     "slide_type": "fragment"
    }
   },
   "outputs": [],
   "source": [
    "import alminer\n",
    "import pandas\n",
    "from astropy.io import ascii"
   ]
  },
  {
   "cell_type": "markdown",
   "id": "6fd07522",
   "metadata": {
    "slideshow": {
     "slide_type": "fragment"
    }
   },
   "source": [
    "# If you were successful in running the notebook so far, we are ready to begin!"
   ]
  }
 ],
 "metadata": {
  "celltoolbar": "Slideshow",
  "kernelspec": {
   "display_name": "Python 3",
   "language": "python",
   "name": "python3"
  },
  "language_info": {
   "codemirror_mode": {
    "name": "ipython",
    "version": 3
   },
   "file_extension": ".py",
   "mimetype": "text/x-python",
   "name": "python",
   "nbconvert_exporter": "python",
   "pygments_lexer": "ipython3",
   "version": "3.9.5"
  },
  "rise": {
   "autolaunch": false,
   "scroll": true,
   "theme": "simple"
  }
 },
 "nbformat": 4,
 "nbformat_minor": 5
}
