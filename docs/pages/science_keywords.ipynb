{
 "cells": [
  {
   "cell_type": "markdown",
   "id": "a361c291",
   "metadata": {
    "deletable": false,
    "editable": false
   },
   "source": [
    "# Science keywords\n",
    "\n",
    "Below is a table of possible ALMA science categories (as of July 2021) that can be provided to the 'science_keyword' keyword in the `alminer.keysearch` function:"
   ]
  },
  {
   "cell_type": "markdown",
   "id": "9932b6b5",
   "metadata": {
    "deletable": false,
    "editable": false
   },
   "source": [
    "<table  align=\"left\" class=\"docutils align-default\">   \n",
    "<tr  style=\"border-bottom:1px solid black\" ><th style=\"text-align:left\" >ALMA science keyword</th></tr>\n",
    "<tr><td style=\"text-align:left\" >Active Galactic Nuclei (AGN)/Quasars (QSO)</td></tr>\n",
    "<tr><td style=\"text-align:left\" >Astrochemistry</td></tr>\n",
    "<tr><td style=\"text-align:left\" >Asymptotic Giant Branch (AGB) stars</td></tr>\n",
    "<tr><td style=\"text-align:left\" >Black holes</td></tr>\n",
    "<tr><td style=\"text-align:left\" >Brown dwarfs</td></tr>\n",
    "<tr><td style=\"text-align:left\" >Cataclysmic stars</td></tr>\n",
    "<tr><td style=\"text-align:left\" >Cosmic Microwave Background (CMB)/Sunyaev-Zel'dovich Effect (SZE)</td></tr>\n",
    "<tr><td style=\"text-align:left\" >Damped Lyman Alpha (DLA) systems</td></tr>\n",
    "<tr><td style=\"text-align:left\" >Debris disks</td></tr>\n",
    "<tr><td style=\"text-align:left\" >Disks around high-mass stars</td></tr>\n",
    "<tr><td style=\"text-align:left\" >Disks around low-mass stars</td></tr>\n",
    "<tr><td style=\"text-align:left\" >Dwarf/metal-poor galaxies</td></tr>\n",
    "<tr><td style=\"text-align:left\" >Early-type galaxies</td></tr>\n",
    "<tr><td  style=\"text-align:left\" >Evolved stars - Chemistry</td></tr>\n",
    "<tr><td  style=\"text-align:left\" >Evolved stars - Shaping/physical structure</td></tr>\n",
    "<tr><td  style=\"text-align:left\" >Exo-planets</td></tr>\n",
    "<tr><td  style=\"text-align:left\" >Galactic centres/nuclei</td></tr>\n",
    "<tr><td  style=\"text-align:left\" >Galaxy Clusters</td></tr>\n",
    "<tr><td  style=\"text-align:left\" >Galaxy chemistry</td></tr>\n",
    "<tr><td  style=\"text-align:left\" >Galaxy groups and clusters</td></tr>\n",
    "<tr><td  style=\"text-align:left\" >Galaxy structure & evolution</td></tr>\n",
    "<tr><td  style=\"text-align:left\" >Gamma Ray Bursts (GRB)</td></tr>\n",
    "<tr><td  style=\"text-align:left\" >Giant Molecular Clouds (GMC) properties</td></tr>\n",
    "<tr><td  style=\"text-align:left\" >Gravitational lenses</td></tr>\n",
    "<tr><td  style=\"text-align:left\" >HII regions</td></tr>\n",
    "<tr><td  style=\"text-align:left\" >High-mass star formation</td></tr>\n",
    "<tr><td  style=\"text-align:left\" >High-z Active Galactic Nuclei (AGN)</td></tr>\n",
    "<tr><td  style=\"text-align:left\" >Hypergiants</td></tr>\n",
    "<tr><td  style=\"text-align:left\" >Infra-Red Dark Clouds (IRDC)</td></tr>\n",
    "<tr><td  style=\"text-align:left\" >Inter-Stellar Medium (ISM)/Molecular clouds</td></tr>\n",
    "<tr><td  style=\"text-align:left\" >Intermediate-mass star formation</td></tr>\n",
    "<tr><td  style=\"text-align:left\" >Low-mass star formation</td></tr>\n",
    "<tr><td  style=\"text-align:left\" >Luminous Blue Variables (LBV)</td></tr>\n",
    "<tr><td  style=\"text-align:left\" >Luminous and Ultra-Luminous Infra-Red Galaxies (LIRG & ULIRG)</td></tr>\n",
    "<tr><td  style=\"text-align:left\" >Lyman Alpha Emitters/Blobs (LAE/LAB)</td></tr>\n",
    "<tr><td  style=\"text-align:left\" >Lyman Break Galaxies (LBG)</td></tr>\n",
    "<tr><td  style=\"text-align:left\" >Magellanic Clouds</td></tr>\n",
    "<tr><td  style=\"text-align:left\" >Main sequence stars</td></tr>\n",
    "<tr><td  style=\"text-align:left\" >Merging and interacting galaxies</td></tr>\n",
    "<tr><td  style=\"text-align:left\" >Outflows, jets, feedback</td></tr>\n",
    "<tr><td  style=\"text-align:left\" >Outflows, jets and ionized winds</td></tr>\n",
    "<tr><td  style=\"text-align:left\" >Photon-Dominated Regions (PDR)/X-Ray Dominated Regions (XDR)</td></tr>\n",
    "<tr><td  style=\"text-align:left\" >Post-AGB stars</td></tr>\n",
    "<tr><td  style=\"text-align:left\" >Pre-stellar cores</td></tr>\n",
    "<tr><td  style=\"text-align:left\" >Pulsars and neutron stars</td></tr>\n",
    "<tr><td  style=\"text-align:left\" >Solar system - Asteroids</td></tr>\n",
    "<tr><td  style=\"text-align:left\" >Solar system - Comets</td></tr>\n",
    "<tr><td  style=\"text-align:left\" >Solar system - Planetary atmospheres</td></tr>\n",
    "<tr><td  style=\"text-align:left\" >Solar system - Planetary surfaces</td></tr>\n",
    "<tr><td  style=\"text-align:left\" >Solar system - Trans-Neptunian Objects (TNOs)</td></tr>\n",
    "<tr><td  style=\"text-align:left\" >Spiral galaxies</td></tr>\n",
    "<tr><td  style=\"text-align:left\" >Starburst galaxies</td></tr>\n",
    "<tr><td  style=\"text-align:left\" >Starbursts, star formation</td></tr>\n",
    "<tr><td  style=\"text-align:left\" >Sub-mm Galaxies (SMG)</td></tr>\n",
    "<tr><td  style=\"text-align:left\" >Supernovae (SN) ejecta</td></tr>\n",
    "<tr><td  style=\"text-align:left\" >Surveys of galaxies</td></tr>\n",
    "<tr><td  style=\"text-align:left\" >The Sun</td></tr>\n",
    "<tr><td  style=\"text-align:left\" >Transients</td></tr>\n",
    "<tr><td  style=\"text-align:left\" >White dwarfs</td></tr>\n",
    "</table>"
   ]
  }
 ],
 "metadata": {
  "kernelspec": {
   "display_name": "Python 3",
   "language": "python",
   "name": "python3"
  },
  "language_info": {
   "codemirror_mode": {
    "name": "ipython",
    "version": 3
   },
   "file_extension": ".py",
   "mimetype": "text/x-python",
   "name": "python",
   "nbconvert_exporter": "python",
   "pygments_lexer": "ipython3",
   "version": "3.7.10"
  }
 },
 "nbformat": 4,
 "nbformat_minor": 5
}
