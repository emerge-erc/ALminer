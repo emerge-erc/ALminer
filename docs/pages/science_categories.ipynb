{
 "cells": [
  {
   "cell_type": "markdown",
   "id": "0651c2bd",
   "metadata": {
    "deletable": false,
    "editable": false
   },
   "source": [
    "# Science categories\n",
    "\n",
    "Below is a table of possible ALMA science categories (as of July 2021) that can be provided to the 'scientific_category' keyword in the `alminer.keysearch` function:"
   ]
  },
  {
   "cell_type": "markdown",
   "id": "ca1d694f",
   "metadata": {
    "deletable": false,
    "editable": false
   },
   "source": [
    "<table  align=\"left\" class=\"docutils align-default\">   \n",
    "<tr  style=\"border-bottom:1px solid black\"><th style=\"text-align:left\" >ALMA science category</th></tr>\n",
    "<tr><td style=\"text-align:left\" >Active galaxies</td></tr>\n",
    "<tr><td style=\"text-align:left\" >Cosmology</td></tr>\n",
    "<tr><td style=\"text-align:left\" >Disks and planet formation</td></tr>\n",
    "<tr><td style=\"text-align:left\" >Galaxy evolution</td></tr>\n",
    "<tr><td style=\"text-align:left\" >ISM and star formation</td></tr>\n",
    "<tr><td style=\"text-align:left\" >Local Universe</td></tr>\n",
    "<tr><td style=\"text-align:left\" >Solar system</td></tr>\n",
    "<tr><td style=\"text-align:left\" >Stars and stellar evolution</td></tr>\n",
    "<tr><td style=\"text-align:left\" >Sun</td></tr>\n",
    "</table>"
   ]
  }
 ],
 "metadata": {
  "kernelspec": {
   "display_name": "Python 3",
   "language": "python",
   "name": "python3"
  },
  "language_info": {
   "codemirror_mode": {
    "name": "ipython",
    "version": 3
   },
   "file_extension": ".py",
   "mimetype": "text/x-python",
   "name": "python",
   "nbconvert_exporter": "python",
   "pygments_lexer": "ipython3",
   "version": "3.9.5"
  }
 },
 "nbformat": 4,
 "nbformat_minor": 5
}
