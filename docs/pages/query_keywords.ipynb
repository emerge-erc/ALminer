{
 "cells": [
  {
   "cell_type": "markdown",
   "id": "b486329f",
   "metadata": {
    "deletable": false,
    "editable": false
   },
   "source": [
    "# Query keywords\n",
    "\n",
    "Below is a table of possible keywords that can be used to query the ALMA Science Archive using the `alminer.keysearch` function:"
   ]
  },
  {
   "cell_type": "markdown",
   "id": "3ef27b86",
   "metadata": {},
   "source": [
    "<table  align=\"left\" class=\"docutils align-default\">\n",
    "<tr style=\"border-bottom:1px solid black\"><th style=\"text-align:left\" >ALMA query keyword</th><th style=\"text-align:left\" >Type</th><th style=\"text-align:left\" >Description</th></tr>\n",
    "<tr><td style=\"text-align:left\" >access_format</td><td  style=\"text-align:left\">char(9)</td><td  style=\"text-align:left\">Content format of the data</td></tr>\n",
    "<tr><td style=\"text-align:left\" >access_url</td><td  style=\"text-align:left\">char(72*)</td><td  style=\"text-align:left\">URL to download the data</td></tr>\n",
    "<tr><td style=\"text-align:left\" >antenna_arrays</td><td  style=\"text-align:left\">char(660*)</td><td  style=\"text-align:left\">Blank-separated list of Pad:Antenna pairs, i.e., A109:DV09 J504:DV02 J505:DV05 <br> for antennas DV09, DV02 and DV05 sitting on pads A109, J504, and J505, respectively.</td></tr>\n",
    "<tr><td style=\"text-align:left\" >asdm_uid</td><td  style=\"text-align:left\">char(32*)</td><td  style=\"text-align:left\">UID of the ASDM containing this Field.</td></tr>\n",
    "<tr><td style=\"text-align:left\" >authors</td><td  style=\"text-align:left\">char(4000*)</td><td  style=\"text-align:left\">Full list of first author and all co-authors</td></tr>\n",
    "<tr><td style=\"text-align:left\" >band_list</td><td  style=\"text-align:left\">char(30*)</td><td  style=\"text-align:left\">Space delimited list of bands</td></tr>\n",
    "<tr><td style=\"text-align:left\" >bib_reference</td><td  style=\"text-align:left\">char(30*)</td><td  style=\"text-align:left\">Bibliography code</td></tr>\n",
    "<tr><td style=\"text-align:left\" >data_rights</td><td  style=\"text-align:left\">char(11)</td><td  style=\"text-align:left\">Access to data.</td></tr>\n",
    "<tr><td style=\"text-align:left\" >dataproduct_type</td><td  style=\"text-align:left\">char(5*)</td><td  style=\"text-align:left\">type of product</td></tr>\n",
    "<tr><td style=\"text-align:left\" >facility_name</td><td  style=\"text-align:left\">char(3)</td><td  style=\"text-align:left\">telescope name</td></tr>\n",
    "<tr><td style=\"text-align:left\" >first_author</td><td  style=\"text-align:left\">char(256*)</td><td  style=\"text-align:left\">The first author as provided by <a href=\"http://telbib.eso.org\">telbib.eso.org</a>.</td></tr>\n",
    "<tr><td style=\"text-align:left\" >frequency_support</td><td  style=\"text-align:left\">char(4000*)</td><td  style=\"text-align:left\">All frequency ranges used by the field</td></tr>\n",
    "<tr><td style=\"text-align:left\" >group_ous_uid</td><td  style=\"text-align:left\">char(64*)</td><td  style=\"text-align:left\">Group OUS ID</td></tr>\n",
    "<tr><td style=\"text-align:left\" >instrument_name</td><td  style=\"text-align:left\">char(4)</td><td  style=\"text-align:left\">instrument name</td></tr>\n",
    "<tr><td style=\"text-align:left\" >is_mosaic</td><td  style=\"text-align:left\">char(1)</td><td  style=\"text-align:left\">Flag to indicate if this ASDM represents a mosaic or not.</td></tr>\n",
    "<tr><td style=\"text-align:left\" >lastModified</td><td  style=\"text-align:left\">char(*)</td><td  style=\"text-align:left\">Time stamp of last modification of the metadata</td></tr>\n",
    "<tr><td style=\"text-align:left\" >member_ous_uid</td><td  style=\"text-align:left\">char(64*)</td><td  style=\"text-align:left\">Member OUS ID</td></tr>\n",
    "<tr><td style=\"text-align:left\" >o_ucd</td><td  style=\"text-align:left\">char(35)</td><td  style=\"text-align:left\">UCD describing the observable axis (pixel values)</td></tr>\n",
    "<tr><td style=\"text-align:left\" >obs_collection</td><td  style=\"text-align:left\">char(4)</td><td  style=\"text-align:left\">short name for the data collection</td></tr>\n",
    "<tr><td style=\"text-align:left\" >obs_creator_name</td><td  style=\"text-align:left\">char(256*)</td><td  style=\"text-align:left\">case-insensitive partial match over the full PI name. Wildcards can be used</td></tr>\n",
    "<tr><td style=\"text-align:left\" >obs_id</td><td  style=\"text-align:left\">char(64*)</td><td  style=\"text-align:left\">internal dataset identifier</td></tr>\n",
    "<tr><td style=\"text-align:left\" >obs_publisher_did</td><td  style=\"text-align:left\">char(33*)</td><td  style=\"text-align:left\">publisher dataset identifier</td></tr>\n",
    "<tr><td style=\"text-align:left\" >obs_release_date</td><td  style=\"text-align:left\">char(*)</td><td  style=\"text-align:left\">timestamp of date the data becomes publicly available</td></tr>\n",
    "<tr><td style=\"text-align:left\" >obs_title</td><td  style=\"text-align:left\">char(256*)</td><td  style=\"text-align:left\">Case-insensitive search over the project title</td></tr>\n",
    "<tr><td style=\"text-align:left\" >pol_states</td><td  style=\"text-align:left\">char(64*)</td><td  style=\"text-align:left\">polarization states present in the data</td></tr>\n",
    "<tr><td style=\"text-align:left\" >proposal_abstract</td><td  style=\"text-align:left\">char(4000*)</td><td  style=\"text-align:left\">Text search on the proposal abstract. Only abstracts will be returned <br> which contain the given text. The search is case-insensitive.</td></tr>\n",
    "<tr><td style=\"text-align:left\" >proposal_authors</td><td  style=\"text-align:left\">char(2000*)</td><td  style=\"text-align:left\">Full name of CoIs.</td></tr>\n",
    "<tr><td style=\"text-align:left\" >proposal_id</td><td  style=\"text-align:left\">char(64*)</td><td  style=\"text-align:left\">Identifier of proposal to which NO observation belongs.</td></tr>\n",
    "<tr><td style=\"text-align:left\" >pub_abstract</td><td  style=\"text-align:left\">char(4000*)</td><td  style=\"text-align:left\">Case insensitive text search through the abstract of the publication.</td></tr>\n",
    "<tr><td style=\"text-align:left\" >pub_title</td><td  style=\"text-align:left\">char(256*)</td><td  style=\"text-align:left\">Case insensitive search through the title of the publication.</td></tr>\n",
    "<tr><td style=\"text-align:left\" >qa2_passed</td><td  style=\"text-align:left\">char(1)</td><td  style=\"text-align:left\">Quality Assessment 2 status: does the Member / Group OUS  <br> fulfil the PI's requirements?</td></tr>\n",
    "<tr><td style=\"text-align:left\" >s_region</td><td  style=\"text-align:left\">char(*)</td><td  style=\"text-align:left\">region bounded by observation</td></tr>\n",
    "<tr><td style=\"text-align:left\" >scan_intent</td><td  style=\"text-align:left\">char(256*)</td><td  style=\"text-align:left\">Scan intent list for the observed field.</td></tr>\n",
    "<tr><td style=\"text-align:left\" >schedblock_name</td><td  style=\"text-align:left\">char(128*)</td><td  style=\"text-align:left\">Name of the Scheduling Block used as a template for executing the ASDM containing this Field.</td></tr>\n",
    "<tr><td style=\"text-align:left\" >science_keyword</td><td  style=\"text-align:left\">char(200*)</td><td  style=\"text-align:left\">Chosen by the PI in the observing tool at the time of proposal submission. For an overview, <br> see [Appendix D of the ALMA Proposer's Guide](https://almascience.eso.org/proposing/proposers-guide#section-63). For a precise list, see a [table of science keywords here](../pages/science_keywords.ipynb).</td></tr>\n",
    "<tr><td style=\"text-align:left\" >science_observation</td><td  style=\"text-align:left\">char(1)</td><td  style=\"text-align:left\">Flag to indicate whether this is a science observation.</td></tr>\n",
    "<tr><td style=\"text-align:left\" >scientific_category</td><td  style=\"text-align:left\">char(200*)</td><td  style=\"text-align:left\">Chosen by the PI in the observing tool at the time of proposal submission. For an overview, <br>  see [Appendix D of the ALMA Proposer's Guide](https://almascience.eso.org/proposing/proposers-guide#section-63). For a precise list, see a [table of science categories here](../pages/science_categories.ipynb).</td></tr>\n",
    "<tr><td style=\"text-align:left\" >target_name</td><td  style=\"text-align:left\">char(256*)</td><td  style=\"text-align:left\">name of intended target</td></tr>\n",
    "<tr><td style=\"text-align:left\" >type</td><td  style=\"text-align:left\">char(16*)</td><td  style=\"text-align:left\">Type flags.</td></tr>\n",
    "</table>"
   ]
  }
 ],
 "metadata": {
  "celltoolbar": "Edit Metadata",
  "kernelspec": {
   "display_name": "Python 3",
   "language": "python",
   "name": "python3"
  },
  "language_info": {
   "codemirror_mode": {
    "name": "ipython",
    "version": 3
   },
   "file_extension": ".py",
   "mimetype": "text/x-python",
   "name": "python",
   "nbconvert_exporter": "python",
   "pygments_lexer": "ipython3",
   "version": "3.9.5"
  }
 },
 "nbformat": 4,
 "nbformat_minor": 5
}
