{
 "cells": [
  {
   "cell_type": "markdown",
   "id": "ca94afce",
   "metadata": {
    "deletable": false,
    "editable": false
   },
   "source": [
    "# 6. Advanced query features <a name=\"advanced\"></a>\n",
    "\n",
    "This Section introduces:<br>\n",
    "\n",
    "- [6.1 - Create and run your own TAP query (<i>alminer.run_query</i>)](#6.1-Create-and-run-your-own-TAP-query)<br>\n",
    "- [6.2 - Convert results to ALminer format (<i>alminer.filter_results</i>)](#6.2-Convert-your-own-query-results-into-ALminer-format)<br>"
   ]
  },
  {
   "cell_type": "markdown",
   "id": "f367b6f0",
   "metadata": {
    "deletable": false,
    "editable": false
   },
   "source": [
    "<h3>Load alminer</h3>"
   ]
  },
  {
   "cell_type": "code",
   "execution_count": 1,
   "id": "01909cb3",
   "metadata": {
    "deletable": false,
    "editable": false,
    "scrolled": true
   },
   "outputs": [],
   "source": [
    "import alminer"
   ]
  },
  {
   "cell_type": "markdown",
   "id": "cce455fc",
   "metadata": {},
   "source": [
    "## 6.1 Create and run your own TAP query\n",
    "\n",
    "You can use [Astronomical Data Query Language (ADQL)](https://www.ivoa.net/documents/ADQL/20180112/PR-ADQL-2.1-20180112.html) to create more complex queries relevant for your work. \n",
    "\n",
    "The ALminer querying functions provide an option to print the query string that was used to search the ALMA archive for the user by setting *print_query* parameter to *True*. \n",
    "\n",
    "Once you have created the query string of interest, you can run it using the [<code>alminer.run_query</code>](../pages/api.rst#alminer.run_query) function.<br>\n",
    "<br>\n"
   ]
  },
  {
   "cell_type": "markdown",
   "id": "e91ee7f7",
   "metadata": {
    "deletable": false,
    "editable": false
   },
   "source": [
    "### Example 6.1.1: Retrieve the ADQL query string used in ALminer query functions"
   ]
  },
  {
   "cell_type": "code",
   "execution_count": 2,
   "id": "a8b26a43",
   "metadata": {
    "deletable": false,
    "editable": false
   },
   "outputs": [
    {
     "name": "stdout",
     "output_type": "stream",
     "text": [
      "================================\n",
      "alminer.keysearch results \n",
      "================================\n",
      "Your query is: SELECT * FROM ivoa.obscore WHERE ((LOWER(proposal_abstract) LIKE '%planet%' AND LOWER(proposal_abstract) LIKE '%forming%' AND LOWER(proposal_abstract) LIKE '%disk%')) AND (LOWER(data_rights) LIKE '%public%') AND (LOWER(scan_intent) LIKE '%target%') ORDER BY proposal_id\n",
      "--------------------------------\n",
      "Number of projects = 116\n",
      "Number of observations = 1876\n",
      "Number of unique subbands = 974\n",
      "Total number of subbands = 9086\n",
      "Total number of targets with ALMA data = 1334\n",
      "--------------------------------\n"
     ]
    }
   ],
   "source": [
    "obs = alminer.keysearch({'proposal_abstract': ['planet forming disk']}, \n",
    "                        print_targets=False, print_query=True)"
   ]
  },
  {
   "cell_type": "markdown",
   "id": "d41e6006",
   "metadata": {
    "deletable": false,
    "editable": false
   },
   "source": [
    "### Example 6.1.2: Modify the query string and run the query\n",
    "\n",
    "In the previous example, we searched the ALMA archive for projects with the words 'planet' AND 'forming' AND 'disk' in their abstracts. But let's say you want to search for the *phrase* 'planet forming disk' rather than the words individually. \n",
    "\n",
    "You can modify the query string accordingly:"
   ]
  },
  {
   "cell_type": "code",
   "execution_count": 3,
   "id": "791a3dda",
   "metadata": {
    "deletable": false,
    "editable": false
   },
   "outputs": [],
   "source": [
    "query_str = \"SELECT * FROM ivoa.obscore WHERE ((LOWER(proposal_abstract) LIKE '%planet forming disk%')) AND (LOWER(data_rights) LIKE '%public%') AND (LOWER(scan_intent) LIKE '%target%') ORDER BY proposal_id\""
   ]
  },
  {
   "cell_type": "markdown",
   "id": "13a57d87",
   "metadata": {
    "deletable": false,
    "editable": false
   },
   "source": [
    "And run the query"
   ]
  },
  {
   "cell_type": "code",
   "execution_count": 4,
   "id": "ea5c7881",
   "metadata": {
    "deletable": false,
    "editable": false
   },
   "outputs": [],
   "source": [
    "myquery = alminer.run_query(query_str)"
   ]
  },
  {
   "cell_type": "markdown",
   "id": "cbae5145",
   "metadata": {},
   "source": [
    "## 6.2 Convert your own query results into ALminer format\n",
    "\n",
    "To make use of other `alminer` functions, the resulting DataFrame returned from running your query has to be converted to `alminer` format where a few useful columns are added to the DataFrame. This can be done through the [<code>alminer.filter_results</code>](../pages/api.rst#alminer.filter_results) function. <br>\n"
   ]
  },
  {
   "cell_type": "markdown",
   "id": "1a301f27",
   "metadata": {
    "deletable": false,
    "editable": false
   },
   "source": [
    "### Example 6.2.1: Convert query results to ALminer format"
   ]
  },
  {
   "cell_type": "code",
   "execution_count": 5,
   "id": "0e7592ff",
   "metadata": {
    "deletable": false,
    "editable": false,
    "scrolled": true
   },
   "outputs": [
    {
     "name": "stdout",
     "output_type": "stream",
     "text": [
      "--------------------------------\n",
      "Number of projects = 3\n",
      "Number of observations = 6\n",
      "Number of unique subbands = 13\n",
      "Total number of subbands = 28\n",
      "6 target(s) with ALMA data = ['Sz_91', 'AA_Tau', 'L1448-mm', 'HH211', 'B1-c', 'B5-IRS1']\n",
      "--------------------------------\n"
     ]
    }
   ],
   "source": [
    "myquery_obs = alminer.filter_results(myquery)"
   ]
  },
  {
   "cell_type": "markdown",
   "id": "6c143c99",
   "metadata": {
    "deletable": false,
    "editable": false
   },
   "source": [
    "Now you can use all the analysis and plotting routines presented before on these observations."
   ]
  }
 ],
 "metadata": {
  "kernelspec": {
   "display_name": "Python 3",
   "language": "python",
   "name": "python3"
  },
  "language_info": {
   "codemirror_mode": {
    "name": "ipython",
    "version": 3
   },
   "file_extension": ".py",
   "mimetype": "text/x-python",
   "name": "python",
   "nbconvert_exporter": "python",
   "pygments_lexer": "ipython3",
   "version": "3.9.5"
  }
 },
 "nbformat": 4,
 "nbformat_minor": 5
}
