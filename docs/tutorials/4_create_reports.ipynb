{
 "cells": [
  {
   "cell_type": "markdown",
   "id": "2602c814",
   "metadata": {
    "deletable": false,
    "editable": false
   },
   "source": [
    "# 4. Create reports <a name=\"reports\"></a>\n",
    "\n",
    "This section introduces different ways to save query results:<br>\n",
    "\n",
    "- [4.1 - Export results as a table (*alminer.save_table*)](#4.1-Export-results-as-a-table)<br>\n",
    "- [4.2 - Save overview plots for each target (*alminer.save_source_reports*)](#4.2-Save-overview-plots)<br>\n",
    "\n"
   ]
  },
  {
   "cell_type": "markdown",
   "id": "71d4a1e9",
   "metadata": {
    "deletable": false,
    "editable": false
   },
   "source": [
    "<h3>Load libraries & create a query</h3>\n",
    "\n",
    "To explore these options, we will first query the archive using one of the methods presented in the previous section and use the results in the remainder of this tutorial."
   ]
  },
  {
   "cell_type": "code",
   "execution_count": 1,
   "id": "6bbeb579",
   "metadata": {
    "deletable": false,
    "editable": false,
    "scrolled": true
   },
   "outputs": [
    {
     "name": "stdout",
     "output_type": "stream",
     "text": [
      "================================\n",
      "alminer.keysearch results \n",
      "================================\n",
      "--------------------------------\n",
      "Number of projects = 47\n",
      "Number of observations = 339\n",
      "Number of unique subbands = 1162\n",
      "Total number of subbands = 1361\n",
      "Total number of targets with ALMA data = 63\n",
      "--------------------------------\n"
     ]
    }
   ],
   "source": [
    "import alminer\n",
    "\n",
    "observations = alminer.keysearch({'science_keyword':['Galaxy chemistry']}, \n",
    "                                 print_targets=False)"
   ]
  },
  {
   "cell_type": "markdown",
   "id": "6cb19e17",
   "metadata": {
    "deletable": false,
    "editable": false
   },
   "source": [
    "## 4.1 Export results as a table\n",
    "\n",
    "The `alminer.save_table` function writes the provided DataFrame to a table in CSV format in the 'tables' folder within the current working directory. If the 'tables' folder does not exist, it will be created.\n",
    "\n",
    "<style>\n",
    "summary > * {\n",
    "  display: inline;\n",
    "</style>\n",
    "\n",
    "<br>\n",
    "<details style=\"background-color:#f8f8f8;\">\n",
    "<summary style=\"display:list-item;background-color:#f8f8f8;\">Details of <code>save_table</code> function</summary>\n",
    "\n",
    "* <u>Description</u>: Write the DataFrame with the query results to a table in CSV format. The table will be saved in the 'tables' subdirectory within the current working directory. If the directory doesn't exist, it will be created. <br>\n",
    "<br>\n",
    "* <u>Command</u>:<br>\n",
    "    * alminer.**save_table**(_observations, filename=\"mytable\"_)<br>\n",
    "<br>\n",
    "* <u>Parameters</u>:<br>\n",
    "    * **observations** : pandas.DataFrame (This is likely the output of e.g. `conesearch`, `target`, `catalog`, and `keysearch` functions.) <br> \n",
    "     * **filename (str)** : Name of the table to be saved in the 'tables' subdirectory.\n",
    "</details>"
   ]
  },
  {
   "cell_type": "markdown",
   "id": "5a2eb993",
   "metadata": {
    "deletable": false,
    "editable": false
   },
   "source": [
    "### Example 4.1.1: save query results as a table"
   ]
  },
  {
   "cell_type": "code",
   "execution_count": 2,
   "id": "7a81e2db",
   "metadata": {
    "deletable": false,
    "editable": false
   },
   "outputs": [],
   "source": [
    "alminer.save_table(observations, filename=\"galaxy_chemistry\")"
   ]
  },
  {
   "cell_type": "markdown",
   "id": "38d3c157",
   "metadata": {
    "deletable": false,
    "editable": false
   },
   "source": [
    "## 4.2 Save overview plots\n",
    "\n",
    "The `alminer.save_source_reports` function creates overview plots of observed frequencies, angular resolution, LAS, frequency and velocity resolutions for each source in the provided DataFrame and saves them in PDF format in the 'reports' folder in the current working directory. If the 'reports' folder does not exist, it will be created. The reports are named after the target names. \n",
    "\n",
    "<u>Note</u>: Currently, the grouping is done based on ALMA target names, so the same source with a slighly different naming schemes will be treated as separate targets.\n",
    "\n",
    "<style>\n",
    "summary > * {\n",
    "  display: inline;\n",
    "</style>\n",
    "\n",
    "<br>\n",
    "<details style=\"background-color:#f8f8f8;\">\n",
    "<summary style=\"display:list-item;background-color:#f8f8f8;\">Details of <code>save_source_reports</code> function</summary>\n",
    "\n",
    "* <u>Description</u>: Create overview plots of observed frequencies, angular resolution, LAS, frequency and velocity resolutions for each source in the provided DataFrame and save them in PDF format in the 'reports' subdirectory.\n",
    "    If the directory doesn't exist, it will be created. <br>\n",
    "<br>\n",
    "* <u>Command</u>:<br>\n",
    "    * alminer.**save_source_reports**(_observations, mark_freq='', z=0., mark_CO=False_)<br>\n",
    "<br>\n",
    "* <u>Parameters</u>:<br>\n",
    "    * **observations (pandas.DataFrame)** : This is likely the output of e.g. `conesearch`, `target`, `catalog`, and `keysearch` functions. <br> \n",
    "    * **mark_freq (list of float64, optional, default: '')** : A list of frequencies to mark on the plot with dashed lines. <br>\n",
    "    * **z (float64, optional, default: 0)** : Redshift by which the frequencies given in 'mark_freq' and 'mark_CO' parameters should be shifted. Currently only one redshift can be given for all targets. <br>\n",
    "    * **mark_CO (bool, optional, default: False)** : mark CO, <sup>13</sup>CO, and C<sup>18</sup>O frequencies on the plot with dashed lines.\n",
    "</details>"
   ]
  },
  {
   "cell_type": "markdown",
   "id": "85fac2a3",
   "metadata": {
    "deletable": false,
    "editable": false
   },
   "source": [
    "### Example 4.2.1: save overview plots of each target with CO lines marked"
   ]
  },
  {
   "cell_type": "markdown",
   "id": "79b34858",
   "metadata": {
    "deletable": false,
    "editable": false
   },
   "source": [
    "Let's first narrow down our large query to a smaller subset to only a range of frequencies (Band 3) and angular resolutions < 0.5\":"
   ]
  },
  {
   "cell_type": "code",
   "execution_count": 3,
   "id": "82cd3288",
   "metadata": {
    "deletable": false,
    "editable": false,
    "scrolled": true
   },
   "outputs": [
    {
     "name": "stdout",
     "output_type": "stream",
     "text": [
      "--------------------------------\n",
      "Number of projects = 8\n",
      "Number of observations = 21\n",
      "Number of unique subbands = 81\n",
      "Total number of subbands = 81\n",
      "8 target(s) with ALMA data = ['NGC7469', 'NGC1266', 'Arp220', 'ngc6240', 'IRAS_F16399-0937', 'n613', 'NGC4418', 'Cloverleaf']\n",
      "--------------------------------\n"
     ]
    }
   ],
   "source": [
    "selected = observations[(observations[\"min_freq_GHz\"] > 80.0) & \n",
    "                        (observations[\"max_freq_GHz\"] < 115.0) & \n",
    "                        (observations[\"ang_res_arcsec\"] < 0.5)]\n",
    "alminer.summary(selected)"
   ]
  },
  {
   "cell_type": "markdown",
   "id": "321f0158",
   "metadata": {
    "deletable": false,
    "editable": false
   },
   "source": [
    "Now we can create and save plots for each source, with CO and its isotopologues marked:"
   ]
  },
  {
   "cell_type": "code",
   "execution_count": 4,
   "id": "6d2037b8",
   "metadata": {
    "deletable": false,
    "editable": false
   },
   "outputs": [],
   "source": [
    "alminer.save_source_reports(selected, mark_CO=True)"
   ]
  }
 ],
 "metadata": {
  "kernelspec": {
   "display_name": "Python 3",
   "language": "python",
   "name": "python3"
  },
  "language_info": {
   "codemirror_mode": {
    "name": "ipython",
    "version": 3
   },
   "file_extension": ".py",
   "mimetype": "text/x-python",
   "name": "python",
   "nbconvert_exporter": "python",
   "pygments_lexer": "ipython3",
   "version": "3.7.10"
  }
 },
 "nbformat": 4,
 "nbformat_minor": 5
}
