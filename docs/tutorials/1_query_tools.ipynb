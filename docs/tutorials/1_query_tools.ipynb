{
 "cells": [
  {
   "cell_type": "markdown",
   "id": "818f137f",
   "metadata": {
    "deletable": false,
    "editable": false
   },
   "source": [
    "# 1. Query tools\n",
    "\n",
    "This Section introduces three methods to query the ALMA archive:\n",
    "\n",
    "- [1.1 - Query by target name (*alminer.target*)](#1.1-Query-by-target-name)<br>\n",
    "- [1.2 - Query a catalog (*alminer.catalog*)](#1.2-Query-by-position)<br>\n",
    "- [1.3 - Query by ALMA keywords (*alminer.keysearch*)](#1.3-Query-by-ALMA-keywords)\n",
    "\n",
    "<h3>General notes about the querying functions:</h3>\n",
    "\n",
    "* All querying functions search the ALMA archive for public data by default. To include both public and proprietary data in the search, set *public=None*. Similarly, to search for only propietary data, set *public=False*. \n",
    "* All querying functions search the ALMA archive for both published and unpublished data. To include only unpublished data, set *published=False*.\n",
    "* The querying functions will by default print a summary of the observations, including a list of target names. For large queries, it is useful to turn this feature off in order to not have a long list of targets printed to screen. To turn off this feature, simply set *print_targets=False*.\n",
    "* The queries return all possible observations in [PANDAS DataFrame](https://pandas.pydata.org/pandas-docs/stable/reference/frame.html) format that can be used to further narrow down your search as demonstrated in [Section 2](2_filter_explore.ipynb)."
   ]
  },
  {
   "cell_type": "markdown",
   "id": "6d22e9b3",
   "metadata": {
    "deletable": false,
    "editable": false
   },
   "source": [
    "<h3>Load libraries </h3>"
   ]
  },
  {
   "cell_type": "code",
   "execution_count": 34,
   "id": "15f044eb",
   "metadata": {
    "deletable": false,
    "editable": false
   },
   "outputs": [],
   "source": [
    "import alminer\n",
    "import pandas\n",
    "from astropy.io import ascii"
   ]
  },
  {
   "cell_type": "markdown",
   "id": "a7fc0530",
   "metadata": {
    "deletable": false,
    "editable": false
   },
   "source": [
    "## 1.1 Query by target name\n",
    "\n",
    "The `alminer.target` function allows one to query objects by name. This function uses the Astropy [SESAME resolver](http://cds.u-strasbg.fr/cgi-bin/Sesame) which searches multiple databases (Simbad, NED, VizieR) to obtain the coordinates of the object of interest, and then queries the ALMA archive for those coordinates and a search radius around them. The search radius is by default 1.0 arcminute, but can be modified using the *search_radius* keyword (in arcmin units). \n",
    "\n",
    "<style>\n",
    "summary > * {\n",
    "  display: inline;\n",
    "</style>\n",
    "\n",
    "<br>\n",
    "<details style=\"background-color:#f8f8f8;\">\n",
    "<summary style=\"display:list-item;background-color:#f8f8f8;\">Details of <code>target</code> function</summary>\n",
    "    \n",
    "* <u>Description</u>: Query targets by name. <br>\n",
    "    * This is done by using the astropy SESAME resolver to get the target's coordinates and then the ALMA archive is queried for those coordinates and a search_radius around them. The SESAME resolver searches multiple databases (Simbad, NED, VizieR) to parse names commonly found throughout literature and returns their coordinates. If the target is not resolved in any of these databases, consider using the `keysearch` function and query the archive using the 'target_name' keyword (e.g. `keysearch({'target_name': sources})`).<br>\n",
    "<br>\n",
    "* <u>Command</u>:<br>\n",
    "    * alminer.**target**(_sources, search_radius=1., point=True, public=True, published=None, print_query=False, print_targets=True_)<br>\n",
    "<br>\n",
    "* <u>Parameters</u>:<br>\n",
    "    * **sources (list of str)** : list of sources by name. (IMPORTANT: sources names must be identified by at least one of Simbad, NED, or Vizier) <br> \n",
    "    * **search_radius (float, optional, default: 1 arcmin)** : Search radius (in arcmin) around the source coordinates. <br>\n",
    "    * **point (bool, optional, default: True)** : Search whether the phase center of the observations is contained within the search_radius (*point=True*) or whether any part of the observed region overlaps with the cone extending the search_radius (*point=False*). Note that *point=True* is much faster than *point=False* but the latter should be used if one is interested in searching for mosaics.<br>\n",
    "    * **public (bool, optional, default: True)** : Search for public data (*public=True*), proprietary data (*public=False*), or both public and proprietary data (*public=None*). <br>\n",
    "    * **published (bool, optional, default: None)** : Search for published data only (*published=True*), unpublished data only (*published=False*), or both published and unpublished data (*published=None*). <br>\n",
    "    * **print_query (bool, optional, default: False)** : Print the ADQL TAP query to the terminal. <br>\n",
    "    * **print_targets (bool, optional, default: True)** : Print a list of targets with ALMA data (ALMA source names) to the terminal. <br>\n",
    " <br>\n",
    "* <u>Returns</u>:<br>\n",
    "    *  **pandas.DataFrame** containing the query results.\n",
    "\n",
    "</details>"
   ]
  },
  {
   "cell_type": "markdown",
   "id": "2580a952",
   "metadata": {
    "deletable": false,
    "editable": false
   },
   "source": [
    "### Example 1.1.1: query two sources by name"
   ]
  },
  {
   "cell_type": "code",
   "execution_count": 22,
   "id": "ee9c31b8",
   "metadata": {
    "deletable": false,
    "editable": false
   },
   "outputs": [
    {
     "name": "stdout",
     "output_type": "stream",
     "text": [
      "================================\n",
      "alminer.target results \n",
      "================================\n",
      "Target = Orion KL\n",
      "--------------------------------\n",
      "Number of projects = 27\n",
      "Number of observations = 63\n",
      "Number of unique subbands = 226\n",
      "Total number of subbands = 272\n",
      "23 target(s) with ALMA data = ['Orion H2O maser outburst', 'OrionKL', 'Orion_Source_I', 'Orion KL', 'Orion-KL', 'Orion_KL', 'BN-KL', 'OrionKL-SV', 'f15', 'f14', 'OMC1_NW', 'Orion1', 'OMC1_SE', 'BN', 'f23', 'Orion', 'Orion_BNKL_source_I', 'OMC-1_Region2', 'orion_kl', 'orion-IRc2', 'Orion_KL_Field_1_Orion_Hot_Core', 'Orion_KL_Field_3_North-west_Clump', 'Orion_KL_Field_2_SMA1']\n",
      "--------------------------------\n",
      "Target = AB Aur\n",
      "--------------------------------\n",
      "Number of projects = 3\n",
      "Number of observations = 3\n",
      "Number of unique subbands = 17\n",
      "Total number of subbands = 17\n",
      "3 target(s) with ALMA data = ['ab_aurigae', 'AB_Aur', 'AB_Auriga']\n",
      "--------------------------------\n"
     ]
    }
   ],
   "source": [
    "myquery = alminer.target(['Orion KL', \"AB Aur\"])"
   ]
  },
  {
   "cell_type": "markdown",
   "id": "c0bb2058",
   "metadata": {
    "deletable": false,
    "editable": false
   },
   "source": [
    "Now let's increase the search radius:"
   ]
  },
  {
   "cell_type": "code",
   "execution_count": 23,
   "id": "a636e3ac",
   "metadata": {
    "deletable": false,
    "editable": false
   },
   "outputs": [
    {
     "name": "stdout",
     "output_type": "stream",
     "text": [
      "================================\n",
      "alminer.target results \n",
      "================================\n",
      "Target = Orion KL\n",
      "--------------------------------\n",
      "Number of projects = 35\n",
      "Number of observations = 100\n",
      "Number of unique subbands = 283\n",
      "Total number of subbands = 451\n",
      "46 target(s) with ALMA data = ['HC602_HC606_HC608', 'Orion H2O maser outburst', 'OrionField1-2', 'OrionKL', 'Orion_Source_I', 'HC672', 'OrionField1-1', 'OrionField2', 'Orion KL', 'OMC-1S', 'Orion-KL', '104', 'Orion_KL', '71', 'BN-KL', 'OrionKL-SV', 'f11', 'f12', 'f15', 'f13', 'f14', 'OMC1_SE', 'OMC1_NW', 'f10', 'Orion1', 'f8', 'f4', 'f5', 'f1', 'f7', 'f3', 'BN', 'f23', 'Orion', 'Orion_BNKL_source_I', 'f16', 'OMC-1_Region4', 'OMC-1_Region2', 'orion_kl', 'ONC_Mosaic', 'orion-IRc2', 'Orion_KL_Field_1_Orion_Hot_Core', 'ONC', 'Orion_KL_Field_3_North-west_Clump', 'Orion_KL_Field_2_SMA1', 'ORS-8']\n",
      "--------------------------------\n",
      "Target = AB Aur\n",
      "--------------------------------\n",
      "Number of projects = 3\n",
      "Number of observations = 3\n",
      "Number of unique subbands = 17\n",
      "Total number of subbands = 17\n",
      "3 target(s) with ALMA data = ['ab_aurigae', 'AB_Aur', 'AB_Auriga']\n",
      "--------------------------------\n"
     ]
    }
   ],
   "source": [
    "myquery = alminer.target(['Orion KL', \"AB Aur\"], search_radius=2.0)"
   ]
  },
  {
   "cell_type": "markdown",
   "id": "6d08b0fb",
   "metadata": {
    "deletable": false,
    "editable": false
   },
   "source": [
    "### Example 1.1.2: query a list of objects by name\n",
    "\n",
    "First create a catalog or a list of object names. In this example, the catalog `Sample_cat.dat` has the following content:\n",
    "```\n",
    " Name     RA      DEC   \n",
    "------ -------- --------\n",
    "AB_Aur  73.9412  30.5511\n",
    "AK_Sco 253.6867 -36.8886\n",
    "AS_310 278.3383  -4.9683\n",
    "AS_470 324.0592  57.3586\n",
    "AS_477 328.1421  47.2289\n",
    "```\n",
    "\n",
    "Note that the column that is used is the *Name* column and the coordinates are ignored in this example."
   ]
  },
  {
   "cell_type": "code",
   "execution_count": 24,
   "id": "ae9a2f06",
   "metadata": {
    "deletable": false,
    "editable": false
   },
   "outputs": [
    {
     "name": "stdout",
     "output_type": "stream",
     "text": [
      "================================\n",
      "alminer.target results \n",
      "================================\n",
      "Target = AB_Aur\n",
      "--------------------------------\n",
      "Number of projects = 3\n",
      "Number of observations = 3\n",
      "Number of unique subbands = 17\n",
      "Total number of subbands = 17\n",
      "3 target(s) with ALMA data = ['ab_aurigae', 'AB_Aur', 'AB_Auriga']\n",
      "--------------------------------\n",
      "Target = AK_Sco\n",
      "--------------------------------\n",
      "Number of projects = 3\n",
      "Number of observations = 3\n",
      "Number of unique subbands = 12\n",
      "Total number of subbands = 12\n",
      "2 target(s) with ALMA data = ['AK_Sco', 'HIP_82747']\n",
      "--------------------------------\n",
      "Target = AS_310\n",
      "--------------------------------\n",
      "No observations found.\n",
      "--------------------------------\n",
      "Target = AS_470\n",
      "--------------------------------\n",
      "No observations found.\n",
      "--------------------------------\n",
      "Target = AS_477\n",
      "--------------------------------\n",
      "No observations found.\n",
      "--------------------------------\n"
     ]
    }
   ],
   "source": [
    "mylist = ascii.read(\"Sample_cat.dat\", header_start=0, data_start=1)\n",
    "myquery = alminer.target(mylist['Name'])"
   ]
  },
  {
   "cell_type": "markdown",
   "id": "dc7aea14",
   "metadata": {
    "deletable": false,
    "editable": false
   },
   "source": [
    "### Example 1.1.3: include proprietary data"
   ]
  },
  {
   "cell_type": "code",
   "execution_count": 25,
   "id": "a73792a2",
   "metadata": {
    "deletable": false,
    "editable": false
   },
   "outputs": [
    {
     "name": "stdout",
     "output_type": "stream",
     "text": [
      "================================\n",
      "alminer.target results \n",
      "================================\n",
      "Target = AB_Aur\n",
      "--------------------------------\n",
      "Number of projects = 4\n",
      "Number of observations = 5\n",
      "Number of unique subbands = 25\n",
      "Total number of subbands = 25\n",
      "3 target(s) with ALMA data = ['ab_aurigae', 'AB_Aur', 'AB_Auriga']\n",
      "--------------------------------\n",
      "Target = AK_Sco\n",
      "--------------------------------\n",
      "Number of projects = 4\n",
      "Number of observations = 4\n",
      "Number of unique subbands = 16\n",
      "Total number of subbands = 16\n",
      "2 target(s) with ALMA data = ['AK_Sco', 'HIP_82747']\n",
      "--------------------------------\n",
      "Target = AS_310\n",
      "--------------------------------\n",
      "No observations found.\n",
      "--------------------------------\n",
      "Target = AS_470\n",
      "--------------------------------\n",
      "No observations found.\n",
      "--------------------------------\n",
      "Target = AS_477\n",
      "--------------------------------\n",
      "No observations found.\n",
      "--------------------------------\n"
     ]
    }
   ],
   "source": [
    "myquery = alminer.target(mylist['Name'], public=None)"
   ]
  },
  {
   "cell_type": "markdown",
   "id": "77c36fd8",
   "metadata": {
    "deletable": false,
    "editable": false
   },
   "source": [
    "### Example 1.1.4: account for mosaics\n",
    "\n",
    "The `alminer.target` function will by default search whether the phase center of any ALMA observations lie within the search radius around the target of interest's position. To search whether any part of the observed region overlaps with the cone extending the search radius, one can set *point=False*. Note that this option is slower, hence it's not the dafault mode."
   ]
  },
  {
   "cell_type": "code",
   "execution_count": 26,
   "id": "cf704c2d",
   "metadata": {
    "deletable": false,
    "editable": false
   },
   "outputs": [
    {
     "name": "stdout",
     "output_type": "stream",
     "text": [
      "================================\n",
      "alminer.target results \n",
      "================================\n",
      "Target = Orion KL\n",
      "--------------------------------\n",
      "Number of projects = 35\n",
      "Number of observations = 90\n",
      "Number of unique subbands = 283\n",
      "Total number of subbands = 399\n",
      "40 target(s) with ALMA data = ['HC602_HC606_HC608', 'Orion H2O maser outburst', 'OrionField1-2', 'OrionKL', 'Orion_Source_I', 'OrionField1-1', 'Orion KL', 'Orion-KL', '104', 'Orion_KL', 'BN-KL', 'OrionKL-SV', 'f11', 'f12', 'f15', 'f13', 'f14', 'OMC1_SE', 'OMC1_NW', 'f10', 'Orion1', 'f1', 'f3', 'BN', 'f23', 'Orion', 'OMC-1_Region5', 'Orion_BNKL_source_I', 'f16', 'OMC-1_Region4', 'OMC-1_Region2', 'orion_kl', 'OMC-1', 'ONC_Mosaic', 'orion-IRc2', 'Orion_KL_Field_1_Orion_Hot_Core', 'ONC', 'Orion_KL_Field_3_North-west_Clump', 'Orion_KL_Field_2_SMA1', 'ORS-8']\n",
      "--------------------------------\n"
     ]
    }
   ],
   "source": [
    "myquery = alminer.target(['Orion KL'], point=False)"
   ]
  },
  {
   "cell_type": "markdown",
   "id": "06b514fe",
   "metadata": {
    "deletable": false,
    "editable": false
   },
   "source": [
    "## 1.2 Query by position\n",
    "\n",
    "The `alminer.conesearch` and `alminer.catalog` functions can be used to directly query the ALMA archive by positions in the sky and a search radius around them. The right ascension and declinations must be given in units of degrees (ICRS). You can use the [Astropy coordinates package](https://docs.astropy.org/en/stable/coordinates/index.html) to convert your desired coordinates to degrees.\n",
    "\n",
    "<style>\n",
    "summary > * {\n",
    "  display: inline;\n",
    "</style>\n",
    "\n",
    "<br>\n",
    "<details style=\"background-color:#f8f8f8;\">\n",
    "<summary style=\"display:list-item;background-color:#f8f8f8;\">Details of <code>conesearch</code> function</summary>\n",
    "\n",
    "* <u>Description</u>: Query the ALMA archive for a given position and radius around it.<br>\n",
    "    <br>\n",
    "* <u>Command</u>:<br>\n",
    "    * alminer.**conesearch**(_ra, dec, search_radius=1., point=True, public=True, published=None, print_targets=True, print_query=False_)<br>\n",
    "<br>\n",
    "* <u>Parameters</u>:<br>\n",
    "    * **ra (float)** : Right ascension in degrees (ICRS). <br>\n",
    "    * **dec (float)** : Declination in degrees (ICRS). <br>\n",
    "    * **search_radius (float, optional, default: 1 arcmin)** : Search radius (in arcmin) around the source coordinates. <br>\n",
    "    * **point (bool, optional, default: True)** : Search whether the phase center of the observations is contained within the search_radius (*point=True*) or whether any part of the observed region overlaps with the cone extending the search_radius (*point=False*). Note that *point=True* is much faster than *point=False* but the latter should be used if one is interested in searching for mosaics.<br>\n",
    "    * **public (bool, optional, default: True)** : Search for public data (*public=True*), proprietary data (*public=False*), or both public and proprietary data (*public=None*). <br>\n",
    "    * **published (bool, optional, default: None)** : Search for published data only (*published=True*), unpublished data only (*published=False*), or both published and unpublished data (*published=None*). <br>\n",
    "    * **print_query (bool, optional, default: False)** : Print the ADQL TAP query to the terminal. <br>\n",
    "    * **print_targets (bool, optional, default: True)** : Print a list of targets with ALMA data (ALMA source names) to the terminal. <br>\n",
    " <br>\n",
    "* <u>Returns</u>:<br>\n",
    "    *  **pandas.DataFrame** containing the query results.<br>\n",
    "</details>\n",
    "\n",
    "<details style=\"background-color:#f8f8f8;\">\n",
    "<summary style=\"display:list-item;background-color:#f8f8f8;\">Details of <code>catalog</code> function</summary>\n",
    "\n",
    "* <u>Description</u>: Query the ALMA archive for a list of coordinates or a catalog of sources based on their coordinates. <br>\n",
    "<br>\n",
    "* <u>Command</u>:<br>\n",
    "    * alminer.**catalog**(_target_df, search_radius=1., point=True, public=True, published=None, print_query=False, print_targets=True_)<br>\n",
    "<br>\n",
    "* <u>Parameters</u>:<br>\n",
    "    * **target_df (pandas.DataFrame)** : DataFrame with source names and coordinates; it must have at least the following three columns: \"*Name*\", \"*RAJ2000*\", \"*DEJ2000*\". \"*Name*\" describes the target name (can be numbers or dummy names), \"*RAJ2000*\" is the right ascension in degrees (ICRS), \"*DEJ2000*\" is the declination in degrees (ICRS) <br>\n",
    "    * **search_radius (float, optional, default: 1 arcmin)** : Search radius (in arcmin) around the source coordinates. <br>\n",
    "    * **point (bool, optional, default: True)** : Search whether the phase center of the observations is contained within the search_radius (*point=True*) or whether any part of the observed region overlaps with the cone extending the search_radius (*point=False*). Note that *point=True* is much faster than *point=False* but the latter should be used if one is interested in searching for mosaics.<br>\n",
    "    * **public (bool, optional, default: True)** : Search for public data (*public=True*), proprietary data (*public=False*), or both public and proprietary data (*public=None*). <br>\n",
    "    * **published (bool, optional, default: None)** : Search for published data only (*published=True*), unpublished data only (*published=False*), or both published and unpublished data (*published=None*). <br>\n",
    "    * **print_query (bool, optional, default: False)** : Print the ADQL TAP query to the terminal. <br>\n",
    "    * **print_targets (bool, optional, default: True)** : Print a list of targets with ALMA data (ALMA source names) to the terminal. <br>\n",
    " <br>\n",
    "* <u>Returns</u>:<br>\n",
    "    *  **pandas.DataFrame** containing the query results.\n",
    "</details>"
   ]
  },
  {
   "cell_type": "markdown",
   "id": "de9df24d",
   "metadata": {
    "deletable": false,
    "editable": false
   },
   "source": [
    "### Example 1.2.1:  query an object by its coordinates (RA, Dec)"
   ]
  },
  {
   "cell_type": "code",
   "execution_count": 27,
   "id": "e365b54b",
   "metadata": {
    "deletable": false,
    "editable": false
   },
   "outputs": [
    {
     "name": "stdout",
     "output_type": "stream",
     "text": [
      "--------------------------------\n",
      "Number of projects = 23\n",
      "Number of observations = 74\n",
      "Number of unique subbands = 190\n",
      "Total number of subbands = 301\n",
      "9 target(s) with ALMA data = ['CenA', 'J1325-430', 'Centaurus_a', 'J1325-4301', 'Centaurus A', 'Centaurus_A', '3FGL_J1325.4-4301', 'NGC_5128', 'Cen_A']\n",
      "--------------------------------\n"
     ]
    }
   ],
   "source": [
    "myquery = alminer.conesearch(ra=201.365063, dec=-43.019112, search_radius=10.0)"
   ]
  },
  {
   "cell_type": "markdown",
   "id": "8289ac60",
   "metadata": {
    "deletable": false,
    "editable": false
   },
   "source": [
    "### Example 1.2.2:  query a catalog of objects by their coordinates (RA, Dec)\n",
    "\n",
    "Let's first import a catalog, for example the catalog of Spitzer YSOs in Orion from Megeath et al. (2009), and create a PANDAS DataFrame using rows 866 to 869 of this catalog. Then use the `alminer.catalog` function to query the ALMA archive for each target in the DataFrame."
   ]
  },
  {
   "cell_type": "code",
   "execution_count": 28,
   "id": "ae11e33b",
   "metadata": {
    "deletable": false,
    "editable": false
   },
   "outputs": [
    {
     "name": "stdout",
     "output_type": "stream",
     "text": [
      "================================\n",
      "alminer.catalog results\n",
      "================================\n",
      "Target = 866\n",
      "--------------------------------\n",
      "Number of projects = 1\n",
      "Number of observations = 1\n",
      "Number of unique subbands = 4\n",
      "Total number of subbands = 4\n",
      "1 target(s) with ALMA data = ['M12_866']\n",
      "--------------------------------\n",
      "Target = 867\n",
      "--------------------------------\n",
      "Number of projects = 1\n",
      "Number of observations = 1\n",
      "Number of unique subbands = 4\n",
      "Total number of subbands = 4\n",
      "1 target(s) with ALMA data = ['M12_867']\n",
      "--------------------------------\n",
      "Target = 868\n",
      "--------------------------------\n",
      "Number of projects = 2\n",
      "Number of observations = 2\n",
      "Number of unique subbands = 8\n",
      "Total number of subbands = 8\n",
      "1 target(s) with ALMA data = ['HOPS-172']\n",
      "--------------------------------\n"
     ]
    }
   ],
   "source": [
    "Spitzer = ascii.read(\"Spitzer_sample.dat\", header_start=0, data_start=866, data_end=869)\n",
    "\n",
    "mycat =  {\"Name\": Spitzer['Seq'], \n",
    "          \"RAJ2000\" : Spitzer[\"RA2000\"], \n",
    "          \"DEJ2000\" : Spitzer[\"DEC2000\"]}\n",
    "\n",
    "mycat = pandas.DataFrame(mycat)\n",
    "\n",
    "myquery = alminer.catalog(mycat, search_radius=1.)"
   ]
  },
  {
   "cell_type": "markdown",
   "id": "7fee6bc0",
   "metadata": {
    "deletable": false,
    "editable": false
   },
   "source": [
    "## 1.3 Query by ALMA keywords\n",
    "\n",
    "Query the ALMA archive for any (string-type) keywords defined in ALMA TAP system (see table below or [here](../pages/query_keywords.ipynb)). \n",
    "\n",
    "The power of this function is in combining keywords. When multiple keywords are provided, they are queried using 'AND' logic, while when multiple values are provided for a given keyword, they are queried using 'OR' logic. For example,\n",
    "\n",
    " * `alminer.keysearch({\"proposal_abstract\": [\"high-mass star formation outflow disk\"]})`\n",
    "will query the archive for projects with the words \"high-mass\" AND \"star\" AND \"formation\" AND \"outflow\" AND \"disk\" in their proposal abstracts.\n",
    "<br>\n",
    "\n",
    " * `alminer.keysearch({\"proposal_abstract\": [\"high-mass\", \"star\", \"formation\", \"outflow\", \"disk\"]})`\n",
    "will query the archive for projects with the words \"high-mass\" OR \"star\" OR \"formation\" OR \"outflow\" OR \"disk\" in their proposal abstracts.\n",
    "<br>\n",
    "\n",
    " * `alminer.keysearch({\"proposal_abstract\": [\"star formation\"], \"scientific_category\":['Galaxy evolution']})`\n",
    "will query the archive for projects with the words \"star\" AND \"formation\" in their proposal abstracts AND projects that are within the scientific_category of 'Galaxy evolution'.\n",
    "\n",
    "<style>\n",
    "summary > * {\n",
    "  display: inline;\n",
    "</style>\n",
    "\n",
    "<details style=\"background-color:#f8f8f8;\">\n",
    "<summary style=\"display:list-item;background-color:#f8f8f8;\">Details of <code>keysearch</code> function</summary>\n",
    "\n",
    "* <u>Description</u>: Query the ALMA archive for any (string-type) keywords defined in ALMA TAP system. <br>\n",
    "<br>\n",
    "* <u>Command</u>:<br>\n",
    "    * alminer.**keysearch**(_search_dict, public=True, published=None, print_query=False, print_targets=True_)<br>\n",
    "<br>\n",
    "* <u>Parameters</u>:<br>\n",
    "    * **search_dict (dict[str, list of str])** : Dictionary of keywords in the ALMA archive and their values. Values must be formatted as a list of strings. For a list of valid keywords see [table](#TAP_table) below. <br> \n",
    "    * **public (bool, optional, default: True)** : Search for public data (*public=True*), proprietary data (*public=False*), or both public and proprietary data (*public=None*). <br>\n",
    "    * **published (bool, optional, default: None)** : Search for published data only (*published=True*), unpublished data only (*published=False*), or both published and unpublished data (*published=None*). <br>\n",
    "    * **print_query (bool, optional, default: False)** : Print the ADQL TAP query to the terminal. <br>\n",
    "    * **print_targets (bool, optional, default: True)** : Print a list of targets with ALMA data (ALMA source names) to the terminal. <br>\n",
    " <br>\n",
    "* <u>Returns</u>:<br>\n",
    "    *  **pandas.DataFrame** containing the query results.\n",
    "</details>"
   ]
  },
  {
   "cell_type": "markdown",
   "id": "0fda4331",
   "metadata": {
    "deletable": false,
    "editable": false
   },
   "source": [
    "<style>\n",
    "summary > * {\n",
    "  display: inline\n",
    "    }\n",
    "</style>\n",
    "\n",
    "<details>\n",
    "<summary style=\"display:list-item\">Table of possible query keywords  <a name=\"TAP_table\" ></a></summary>\n",
    "\n",
    "<table  align=\"left\" class=\"docutils align-default\">\n",
    "    <thead>\n",
    "    <tr style=\"border-bottom:1px solid black\"><th style=\"text-align:left\" >ALMA query keyword</th><th style=\"text-align:left\" >Type</th><th style=\"text-align:left\" >Description</th></tr>\n",
    "    </thead>\n",
    "    <tbody>\n",
    "    <tr><td style=\"text-align:left\" >access_format</td><td  style=\"text-align:left\">char(9)</td><td  style=\"text-align:left\">Content format of the data</td></tr>\n",
    "    <tr><td style=\"text-align:left\" >access_url</td><td  style=\"text-align:left\">char(72*)</td><td  style=\"text-align:left\">URL to download the data</td></tr>\n",
    "    <tr><td style=\"text-align:left\" >antenna_arrays</td><td  style=\"text-align:left\">char(660*)</td><td  style=\"text-align:left\">Blank-separated list of Pad:Antenna pairs, i.e., A109:DV09 J504:DV02 J505:DV05 <br> for antennas DV09, DV02 and DV05 sitting on pads A109, J504, and J505, respectively.</td></tr>\n",
    "    <tr><td style=\"text-align:left\" >asdm_uid</td><td  style=\"text-align:left\">char(32*)</td><td  style=\"text-align:left\">UID of the ASDM containing this Field.</td></tr>\n",
    "    <tr><td style=\"text-align:left\" >authors</td><td  style=\"text-align:left\">char(4000*)</td><td  style=\"text-align:left\">Full list of first author and all co-authors</td></tr>\n",
    "    <tr><td style=\"text-align:left\" >band_list</td><td  style=\"text-align:left\">char(30*)</td><td  style=\"text-align:left\">Space delimited list of bands</td></tr>\n",
    "    <tr><td style=\"text-align:left\" >bib_reference</td><td  style=\"text-align:left\">char(30*)</td><td  style=\"text-align:left\">Bibliography code</td></tr>\n",
    "    <tr><td style=\"text-align:left\" >data_rights</td><td  style=\"text-align:left\">char(11)</td><td  style=\"text-align:left\">Access to data.</td></tr>\n",
    "    <tr><td style=\"text-align:left\" >dataproduct_type</td><td  style=\"text-align:left\">char(5*)</td><td  style=\"text-align:left\">type of product</td></tr>\n",
    "    <tr><td style=\"text-align:left\" >facility_name</td><td  style=\"text-align:left\">char(3)</td><td  style=\"text-align:left\">telescope name</td></tr>\n",
    "    <tr><td style=\"text-align:left\" >first_author</td><td  style=\"text-align:left\">char(256*)</td><td  style=\"text-align:left\">The first author as provided by <a href=\"http://telbib.eso.org\">telbib.eso.org</a>.</td></tr>\n",
    "    <tr><td style=\"text-align:left\" >frequency_support</td><td  style=\"text-align:left\">char(4000*)</td><td  style=\"text-align:left\">All frequency ranges used by the field</td></tr>\n",
    "    <tr><td style=\"text-align:left\" >group_ous_uid</td><td  style=\"text-align:left\">char(64*)</td><td  style=\"text-align:left\">Group OUS ID</td></tr>\n",
    "    <tr><td style=\"text-align:left\" >instrument_name</td><td  style=\"text-align:left\">char(4)</td><td  style=\"text-align:left\">instrument name</td></tr>\n",
    "    <tr><td style=\"text-align:left\" >is_mosaic</td><td  style=\"text-align:left\">char(1)</td><td  style=\"text-align:left\">Flag to indicate if this ASDM represents a mosaic or not.</td></tr>\n",
    "    <tr><td style=\"text-align:left\" >lastModified</td><td  style=\"text-align:left\">char(*)</td><td  style=\"text-align:left\">Time stamp of last modification of the metadata</td></tr>\n",
    "    <tr><td style=\"text-align:left\" >member_ous_uid</td><td  style=\"text-align:left\">char(64*)</td><td  style=\"text-align:left\">Member OUS ID</td></tr>\n",
    "    <tr><td style=\"text-align:left\" >o_ucd</td><td  style=\"text-align:left\">char(35)</td><td  style=\"text-align:left\">UCD describing the observable axis (pixel values)</td></tr>\n",
    "    <tr><td style=\"text-align:left\" >obs_collection</td><td  style=\"text-align:left\">char(4)</td><td  style=\"text-align:left\">short name for the data collection</td></tr>\n",
    "    <tr><td style=\"text-align:left\" >obs_creator_name</td><td  style=\"text-align:left\">char(256*)</td><td  style=\"text-align:left\">case-insensitive partial match over the full PI name. Wildcards can be used</td></tr>\n",
    "    <tr><td style=\"text-align:left\" >obs_id</td><td  style=\"text-align:left\">char(64*)</td><td  style=\"text-align:left\">internal dataset identifier</td></tr>\n",
    "    <tr><td style=\"text-align:left\" >obs_publisher_did</td><td  style=\"text-align:left\">char(33*)</td><td  style=\"text-align:left\">publisher dataset identifier</td></tr>\n",
    "    <tr><td style=\"text-align:left\" >obs_release_date</td><td  style=\"text-align:left\">char(*)</td><td  style=\"text-align:left\">timestamp of date the data becomes publicly available</td></tr>\n",
    "    <tr><td style=\"text-align:left\" >obs_title</td><td  style=\"text-align:left\">char(256*)</td><td  style=\"text-align:left\">Case-insensitive search over the project title</td></tr>\n",
    "    <tr><td style=\"text-align:left\" >pol_states</td><td  style=\"text-align:left\">char(64*)</td><td  style=\"text-align:left\">polarization states present in the data</td></tr>\n",
    "    <tr><td style=\"text-align:left\" >proposal_abstract</td><td  style=\"text-align:left\">char(4000*)</td><td  style=\"text-align:left\">Text search on the proposal abstract. Only abstracts will be returned <br> which contain the given text. The search is case-insensitive.</td></tr>\n",
    "    <tr><td style=\"text-align:left\" >proposal_authors</td><td  style=\"text-align:left\">char(2000*)</td><td  style=\"text-align:left\">Full name of CoIs.</td></tr>\n",
    "    <tr><td style=\"text-align:left\" >proposal_id</td><td  style=\"text-align:left\">char(64*)</td><td  style=\"text-align:left\">Identifier of proposal to which NO observation belongs.</td></tr>\n",
    "    <tr><td style=\"text-align:left\" >pub_abstract</td><td  style=\"text-align:left\">char(4000*)</td><td  style=\"text-align:left\">Case insensitive text search through the abstract of the publication.</td></tr>\n",
    "    <tr><td style=\"text-align:left\" >pub_title</td><td  style=\"text-align:left\">char(256*)</td><td  style=\"text-align:left\">Case insensitive search through the title of the publication.</td></tr>\n",
    "    <tr><td style=\"text-align:left\" >qa2_passed</td><td  style=\"text-align:left\">char(1)</td><td  style=\"text-align:left\">Quality Assessment 2 status: does the Member / Group OUS  <br> fulfil the PI's requirements?</td></tr>\n",
    "    <tr><td style=\"text-align:left\" >s_region</td><td  style=\"text-align:left\">char(*)</td><td  style=\"text-align:left\">region bounded by observation</td></tr>\n",
    "    <tr><td style=\"text-align:left\" >scan_intent</td><td  style=\"text-align:left\">char(256*)</td><td  style=\"text-align:left\">Scan intent list for the observed field.</td></tr>\n",
    "    <tr><td style=\"text-align:left\" >schedblock_name</td><td  style=\"text-align:left\">char(128*)</td><td  style=\"text-align:left\">Name of the Scheduling Block used as a template for executing the ASDM containing this Field.</td></tr>\n",
    "    <tr><td style=\"text-align:left\" >science_keyword</td><td  style=\"text-align:left\">char(200*)</td><td  style=\"text-align:left\">Chosen by the PI in the observing tool at the time of proposal submission. For an overview, <br> see <a href=\"https://almascience.nrao.edu/proposing/proposers-guide#section-63\">Appendix D of the ALMA Proposer's Guide</a>. For a precise list, see <a href=\"#sci_keywords\">Table of science keywords</a> below.</td></tr>\n",
    "    <tr><td style=\"text-align:left\" >science_observation</td><td  style=\"text-align:left\">char(1)</td><td  style=\"text-align:left\">Flag to indicate whether this is a science observation.</td></tr>\n",
    "    <tr><td style=\"text-align:left\" >scientific_category</td><td  style=\"text-align:left\">char(200*)</td><td  style=\"text-align:left\">Chosen by the PI in the observing tool at the time of proposal submission. For an overview, <br>  see <a href=\"https://almascience.nrao.edu/proposing/proposers-guide#section-63\">Appendix D of the ALMA Proposer's Guide</a>. For a precise list, see <a href=\"#sci_category\">Table of science categories</a> below.</td></tr>\n",
    "    <tr><td style=\"text-align:left\" >target_name</td><td  style=\"text-align:left\">char(256*)</td><td  style=\"text-align:left\">name of intended target</td></tr>\n",
    "    <tr><td style=\"text-align:left\" >type</td><td  style=\"text-align:left\">char(16*)</td><td  style=\"text-align:left\">Type flags.</td></tr>\n",
    "    </tbody>\n",
    "</table><br>\n",
    "</details>"
   ]
  },
  {
   "cell_type": "markdown",
   "id": "5c52e8ed",
   "metadata": {
    "deletable": false,
    "editable": false
   },
   "source": [
    "<style>\n",
    "summary > * {\n",
    "  display: inline;\n",
    "</style>\n",
    "\n",
    "<details>\n",
    "<summary style=\"display:list-item\">Table of possible ALMA science categories <a name=\"sci_category\" ></a></summary>\n",
    "\n",
    "<table  align=\"left\" class=\"docutils align-default\">   \n",
    "<tr  style=\"border-bottom:1px solid black\"><th style=\"text-align:left\" >ALMA science category</th></tr>\n",
    "<tr><td style=\"text-align:left\" >Active galaxies</td></tr>\n",
    "<tr><td style=\"text-align:left\" >Cosmology</td></tr>\n",
    "<tr><td style=\"text-align:left\" >Disks and planet formation</td></tr>\n",
    "<tr><td style=\"text-align:left\" >Galaxy evolution</td></tr>\n",
    "<tr><td style=\"text-align:left\" >ISM and star formation</td></tr>\n",
    "<tr><td style=\"text-align:left\" >Local Universe</td></tr>\n",
    "<tr><td style=\"text-align:left\" >Solar system</td></tr>\n",
    "<tr><td style=\"text-align:left\" >Stars and stellar evolution</td></tr>\n",
    "<tr><td style=\"text-align:left\" >Sun</td></tr>\n",
    "</table><br>\n",
    "</details>"
   ]
  },
  {
   "cell_type": "markdown",
   "id": "5c375ce5",
   "metadata": {
    "deletable": false,
    "editable": false
   },
   "source": [
    "<style>\n",
    "summary > * {\n",
    "  display: inline;\n",
    "</style>\n",
    "\n",
    "<details>\n",
    "<summary style=\"display:list-item\">Table of possible ALMA science keywords <a name=\"sci_keywords\" ></a></summary>\n",
    "\n",
    "<table  align=\"left\" class=\"docutils align-default\">   \n",
    "<tr  style=\"border-bottom:1px solid black\" ><th style=\"text-align:left\" >ALMA science keyword</th></tr>\n",
    "<tr><td style=\"text-align:left\" >Active Galactic Nuclei (AGN)/Quasars (QSO)</td></tr>\n",
    "<tr><td style=\"text-align:left\" >Astrochemistry</td></tr>\n",
    "<tr><td style=\"text-align:left\" >Asymptotic Giant Branch (AGB) stars</td></tr>\n",
    "<tr><td style=\"text-align:left\" >Black holes</td></tr>\n",
    "<tr><td style=\"text-align:left\" >Brown dwarfs</td></tr>\n",
    "<tr><td style=\"text-align:left\" >Cataclysmic stars</td></tr>\n",
    "<tr><td style=\"text-align:left\" >Cosmic Microwave Background (CMB)/Sunyaev-Zel'dovich Effect (SZE)\"</td></tr>\n",
    "<tr><td style=\"text-align:left\" >Damped Lyman Alpha (DLA) systems</td></tr>\n",
    "<tr><td style=\"text-align:left\" >Debris disks</td></tr>\n",
    "<tr><td style=\"text-align:left\" >Disks around high-mass stars</td></tr>\n",
    "<tr><td style=\"text-align:left\" >Disks around low-mass stars</td></tr>\n",
    "<tr><td style=\"text-align:left\" >Dwarf/metal-poor galaxies</td></tr>\n",
    "<tr><td style=\"text-align:left\" >Early-type galaxies</td></tr>\n",
    "<tr><td  style=\"text-align:left\" >Evolved stars - Chemistry</td></tr>\n",
    "<tr><td  style=\"text-align:left\" >Evolved stars - Shaping/physical structure</td></tr>\n",
    "<tr><td  style=\"text-align:left\" >Evolved stars: Shaping/physical structure</td></tr>\n",
    "<tr><td  style=\"text-align:left\" >Exo-planets</td></tr>\n",
    "<tr><td  style=\"text-align:left\" >Galactic centres/nuclei</td></tr>\n",
    "<tr><td  style=\"text-align:left\" >Galaxy Clusters</td></tr>\n",
    "<tr><td  style=\"text-align:left\" >Galaxy chemistry</td></tr>\n",
    "<tr><td  style=\"text-align:left\" >Galaxy groups and clusters</td></tr>\n",
    "<tr><td  style=\"text-align:left\" >Galaxy structure & evolution</td></tr>\n",
    "<tr><td  style=\"text-align:left\" >Gamma Ray Bursts (GRB)</td></tr>\n",
    "<tr><td  style=\"text-align:left\" >Giant Molecular Clouds (GMC) properties</td></tr>\n",
    "<tr><td  style=\"text-align:left\" >Gravitational lenses</td></tr>\n",
    "<tr><td  style=\"text-align:left\" >HII regions</td></tr>\n",
    "<tr><td  style=\"text-align:left\" >High-mass star formation</td></tr>\n",
    "<tr><td  style=\"text-align:left\" >High-z Active Galactic Nuclei (AGN)</td></tr>\n",
    "<tr><td  style=\"text-align:left\" >Hypergiants</td></tr>\n",
    "<tr><td  style=\"text-align:left\" >Infra-Red Dark Clouds (IRDC)</td></tr>\n",
    "<tr><td  style=\"text-align:left\" >Inter-Stellar Medium (ISM)/Molecular clouds</td></tr>\n",
    "<tr><td  style=\"text-align:left\" >Intermediate-mass star formation</td></tr>\n",
    "<tr><td  style=\"text-align:left\" >Low-mass star formation</td></tr>\n",
    "<tr><td  style=\"text-align:left\" >Luminous Blue Variables (LBV)</td></tr>\n",
    "<tr><td  style=\"text-align:left\" >Luminous and Ultra-Luminous Infra-Red Galaxies (LIRG & ULIRG)</td></tr>\n",
    "<tr><td  style=\"text-align:left\" >Lyman Alpha Emitters/Blobs (LAE/LAB)</td></tr>\n",
    "<tr><td  style=\"text-align:left\" >Lyman Break Galaxies (LBG)</td></tr>\n",
    "<tr><td  style=\"text-align:left\" >Magellanic Clouds</td></tr>\n",
    "<tr><td  style=\"text-align:left\" >Main sequence stars</td></tr>\n",
    "<tr><td  style=\"text-align:left\" >Merging and interacting galaxies</td></tr>\n",
    "<tr><td  style=\"text-align:left\" >Outflows, jets, feedback</td></tr>\n",
    "<tr><td  style=\"text-align:left\" >Outflows, jets and ionized winds</td></tr>\n",
    "<tr><td  style=\"text-align:left\" >Photon-Dominated Regions (PDR)/X-Ray Dominated Regions (XDR)</td></tr>\n",
    "<tr><td  style=\"text-align:left\" >Post-AGB stars</td></tr>\n",
    "<tr><td  style=\"text-align:left\" >Pre-stellar cores</td></tr>\n",
    "<tr><td  style=\"text-align:left\" >Pulsars and neutron stars</td></tr>\n",
    "<tr><td  style=\"text-align:left\" >Solar system - Asteroids</td></tr>\n",
    "<tr><td  style=\"text-align:left\" >Solar system - Comets</td></tr>\n",
    "<tr><td  style=\"text-align:left\" >Solar system - Planetary atmospheres</td></tr>\n",
    "<tr><td  style=\"text-align:left\" >Solar system - Planetary surfaces</td></tr>\n",
    "<tr><td  style=\"text-align:left\" >Solar system - Trans-Neptunian Objects (TNOs)</td></tr>\n",
    "<tr><td  style=\"text-align:left\" >Spiral galaxies</td></tr>\n",
    "<tr><td  style=\"text-align:left\" >Starburst galaxies</td></tr>\n",
    "<tr><td  style=\"text-align:left\" >Starbursts, star formation</td></tr>\n",
    "<tr><td  style=\"text-align:left\" >Sub-mm Galaxies (SMG)</td></tr>\n",
    "<tr><td  style=\"text-align:left\" >Supernovae (SN) ejecta</td></tr>\n",
    "<tr><td  style=\"text-align:left\" >Surveys of galaxies</td></tr>\n",
    "<tr><td  style=\"text-align:left\" >The Sun</td></tr>\n",
    "<tr><td  style=\"text-align:left\" >Transients</td></tr>\n",
    "<tr><td  style=\"text-align:left\" >White dwarfs</td></tr>\n",
    "</table>\n",
    "</details>"
   ]
  },
  {
   "cell_type": "markdown",
   "id": "9bb7032a",
   "metadata": {
    "deletable": false,
    "editable": false
   },
   "source": [
    "### Example 1.3.1: query a list of ALMA target names that may not be in SIMBAD/NED/VizieR"
   ]
  },
  {
   "cell_type": "code",
   "execution_count": 29,
   "id": "6eedc818",
   "metadata": {
    "deletable": false,
    "editable": false
   },
   "outputs": [
    {
     "name": "stdout",
     "output_type": "stream",
     "text": [
      "================================\n",
      "alminer.keysearch results \n",
      "================================\n",
      "--------------------------------\n",
      "Number of projects = 16\n",
      "Number of observations = 28\n",
      "Number of unique subbands = 121\n",
      "Total number of subbands = 179\n",
      "10 target(s) with ALMA data = ['GRB021004', 'G345.5', 'SPT0319-47', 'G345.5043+00.3480', 'G345.49+1.47', 'G345.50+0.35', 'G345.6487+0.0089', 'G345.01', 'G345.11', 'G345.0029-0.2241']\n",
      "--------------------------------\n"
     ]
    }
   ],
   "source": [
    "myquery = alminer.keysearch({'target_name': ['GRB021004','SPT0319-47', 'G345']})"
   ]
  },
  {
   "cell_type": "markdown",
   "id": "f1fd0cdc",
   "metadata": {
    "deletable": false,
    "editable": false
   },
   "source": [
    "### Example 1.3.2: query a list of ALMA projects by their proposal IDs"
   ]
  },
  {
   "cell_type": "code",
   "execution_count": 30,
   "id": "cc6fd2c9",
   "metadata": {
    "deletable": false,
    "editable": false
   },
   "outputs": [
    {
     "name": "stdout",
     "output_type": "stream",
     "text": [
      "================================\n",
      "alminer.keysearch results \n",
      "================================\n",
      "--------------------------------\n",
      "Number of projects = 2\n",
      "Number of observations = 16\n",
      "Number of unique subbands = 16\n",
      "Total number of subbands = 64\n",
      "16 target(s) with ALMA data = ['KMOS3DGS4-27882', 'KMOS3DCOS4-24763', 'KMOS3DU4-34138', 'KMOS3DCOS4-19680', 'KMOS3DCOS4-13701', 'KMOS3DCOS4-10347', 'KMOS3DCOS4-13174', 'KMOS3DCOS4-15820', 'KMOS3DCOS4-15813', 'KMOS3DU4-22227', 'KMOS3DU4-20547', 'KMOS3DU4-32147', 'KMOS3DGS4-24110', 'KMOS3DGS4-11016', 'KMOS3DGS4-25151', 'AK_Sco']\n",
      "--------------------------------\n"
     ]
    }
   ],
   "source": [
    "myquery = alminer.keysearch({'proposal_id': ['2015.1.00664.S', '2016.1.00204.S']})"
   ]
  },
  {
   "cell_type": "markdown",
   "id": "1ec42450",
   "metadata": {
    "deletable": false,
    "editable": false
   },
   "source": [
    "### Example 1.3.3: query by words in the proposal abstract\n",
    "\n",
    "Query the ALMA archive for proposals that have the words 'high-mass' AND 'star' AND 'formation' AND 'outflow', and do not print the long list of target names in the summary."
   ]
  },
  {
   "cell_type": "code",
   "execution_count": 31,
   "id": "e8eb11ee",
   "metadata": {
    "deletable": false,
    "editable": false
   },
   "outputs": [
    {
     "name": "stdout",
     "output_type": "stream",
     "text": [
      "================================\n",
      "alminer.keysearch results \n",
      "================================\n",
      "--------------------------------\n",
      "Number of projects = 34\n",
      "Number of observations = 419\n",
      "Number of unique subbands = 416\n",
      "Total number of subbands = 2799\n",
      "Total number of targets with ALMA data = 239\n",
      "--------------------------------\n"
     ]
    }
   ],
   "source": [
    "myquery = alminer.keysearch({'proposal_abstract': ['high-mass star formation outflow']}, \n",
    "                            print_targets=False)"
   ]
  },
  {
   "cell_type": "markdown",
   "id": "c62e26fc",
   "metadata": {
    "deletable": false,
    "editable": false
   },
   "source": [
    "### Example 1.3.4: query by combination of keywords\n",
    "\n",
    "Query the ALMA archive for proposals that have the words ('high-mass' AND 'star' AND 'formation' AND 'outflow') OR ('massive' AND 'star' AND 'formation') corresponding to the scientific category of 'Galaxy evolution'."
   ]
  },
  {
   "cell_type": "code",
   "execution_count": 32,
   "id": "f99bb866",
   "metadata": {
    "deletable": false,
    "editable": false,
    "scrolled": true
   },
   "outputs": [
    {
     "name": "stdout",
     "output_type": "stream",
     "text": [
      "================================\n",
      "alminer.keysearch results \n",
      "================================\n",
      "--------------------------------\n",
      "Number of projects = 119\n",
      "Number of observations = 2056\n",
      "Number of unique subbands = 2481\n",
      "Total number of subbands = 8247\n",
      "Total number of targets with ALMA data = 1376\n",
      "--------------------------------\n"
     ]
    }
   ],
   "source": [
    "myquery = alminer.keysearch({'proposal_abstract': ['high-mass star formation', 'massive star formation'], \n",
    "                             'scientific_category':['Galaxy evolution']}, print_targets=False)"
   ]
  },
  {
   "cell_type": "markdown",
   "id": "54a93153",
   "metadata": {
    "deletable": false,
    "editable": false
   },
   "source": [
    "### Example 1.3.5: query for full polarization data"
   ]
  },
  {
   "cell_type": "code",
   "execution_count": 33,
   "id": "52e92df9",
   "metadata": {
    "deletable": false,
    "editable": false,
    "scrolled": true
   },
   "outputs": [
    {
     "name": "stdout",
     "output_type": "stream",
     "text": [
      "================================\n",
      "alminer.keysearch results \n",
      "================================\n",
      "--------------------------------\n",
      "Number of projects = 27\n",
      "Number of observations = 48\n",
      "Number of unique subbands = 94\n",
      "Total number of subbands = 192\n",
      "Total number of targets with ALMA data = 34\n",
      "--------------------------------\n"
     ]
    }
   ],
   "source": [
    "myquery = alminer.keysearch({'science_keyword':['disks around low-mass stars'], \n",
    "                             'pol_states':['XY', 'YX']}, print_targets=False)"
   ]
  }
 ],
 "metadata": {
  "kernelspec": {
   "display_name": "Python 3",
   "language": "python",
   "name": "python3"
  },
  "language_info": {
   "codemirror_mode": {
    "name": "ipython",
    "version": 3
   },
   "file_extension": ".py",
   "mimetype": "text/x-python",
   "name": "python",
   "nbconvert_exporter": "python",
   "pygments_lexer": "ipython3",
   "version": "3.9.5"
  }
 },
 "nbformat": 4,
 "nbformat_minor": 5
}
