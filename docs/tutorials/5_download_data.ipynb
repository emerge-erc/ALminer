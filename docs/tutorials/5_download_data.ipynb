{
 "cells": [
  {
   "cell_type": "markdown",
   "id": "87bf3b3f",
   "metadata": {
    "deletable": false,
    "editable": false
   },
   "source": [
    "# 5. Download data <a name=\"download\"></a>\n",
    "\n",
    "The [<code>alminer.download_data</code>](../pages/api.rst#alminer.download_data) function allows the user to download the data from the archive directly to a location on the local disk. \n",
    "\n",
    "<h3>General notes about the download function:</h3>\n",
    "\n",
    " * The default download location is the 'data' subdirectory in the current working directory. The desired location can be changed by setting the *location* parameter to the desired path.\n",
    " * The archive mirror used for downloading can be specified through the *archive_mirror* parameter. [ESO](https://almascience.eso.org/aq) is the default, and other options are [NRAO](https://almascience.nrao.edu/aq) and [NAOJ](https://almascience.nao.ac.jp/aq).\n",
    " * To check the amount of disk space needed, the *dryrun* parameter can be toggled to *True* which will only stage the data and write to the terminal how much space is required.\n",
    " * By default, tar files (including both raw and FITS data products) associated with uids in the provided DataFrame will be downloaded.\n",
    " * To download only the FITS data products, the *fitsonly* parameter can be toggled to *True*.\n",
    " * It is possible to provide a list of strings (to the *filename_must_include* parameter) that the user wants to be included in the filenames that are downloaded. This is useful to restrict the download further, for example, to data that have been primary beam corrected ('.pbcor') or that have the science target ('_sci' or the ALMA target name). The choice is largely dependent on the cycle and type of reduction that was performed, and data products that exist on the archive as a result.\n",
    " * A list of URLs (files) to be downloaded from the archive can be printed to the terminal by setting *print_urls=True*.\n",
    " "
   ]
  },
  {
   "cell_type": "markdown",
   "id": "027601b0",
   "metadata": {
    "deletable": false,
    "editable": false
   },
   "source": [
    "<h3> Load libraries & create a query </h3>\n",
    "\n",
    "To explore these options, we will first query the archive using one of the methods presented in the previous section and use the results in the remainder of this tutorial."
   ]
  },
  {
   "cell_type": "code",
   "execution_count": 1,
   "id": "80fe8d35",
   "metadata": {
    "deletable": false,
    "editable": false,
    "scrolled": true
   },
   "outputs": [
    {
     "name": "stdout",
     "output_type": "stream",
     "text": [
      "================================\n",
      "alminer.keysearch results \n",
      "================================\n",
      "--------------------------------\n",
      "Number of projects = 2\n",
      "Number of observations = 3\n",
      "Number of unique subbands = 9\n",
      "Total number of subbands = 12\n",
      "1 target(s) with ALMA data = ['G31.41+0.31']\n",
      "--------------------------------\n"
     ]
    }
   ],
   "source": [
    "import alminer\n",
    "\n",
    "observations = alminer.keysearch({'target_name':['G31.41'], 'proposal_id': ['2018']})"
   ]
  },
  {
   "cell_type": "markdown",
   "id": "3684010e",
   "metadata": {
    "deletable": false,
    "editable": false
   },
   "source": [
    "### Example 5.1: download all data products (raw + products)"
   ]
  },
  {
   "cell_type": "code",
   "execution_count": 2,
   "id": "4e8d4fa0",
   "metadata": {
    "deletable": false,
    "editable": false
   },
   "outputs": [
    {
     "name": "stdout",
     "output_type": "stream",
     "text": [
      "================================\n",
      "This is a dryrun. To begin download, set dryrun=False.\n",
      "================================\n",
      "Download location = ./data\n",
      "Total number of Member OUSs to download = 3\n",
      "Selected Member OUSs: ['uid://A001/X133d/X325', 'uid://A001/X133d/X327', 'uid://A001/X133d/X21b4']\n",
      "Number of files to download = 13\n",
      "Needed disk space = 450.5 GB\n",
      "--------------------------------\n"
     ]
    }
   ],
   "source": [
    "alminer.download_data(observations, fitsonly=False, dryrun=True, \n",
    "                      location='./data', print_urls=False)"
   ]
  },
  {
   "cell_type": "markdown",
   "id": "95008d58",
   "metadata": {
    "deletable": false,
    "editable": false
   },
   "source": [
    "### Example 5.2: download only continuum FITS images for the science target"
   ]
  },
  {
   "cell_type": "code",
   "execution_count": 3,
   "id": "e8e7bb93",
   "metadata": {
    "deletable": false,
    "editable": false
   },
   "outputs": [
    {
     "name": "stdout",
     "output_type": "stream",
     "text": [
      "================================\n",
      "This is a dryrun. To begin download, set dryrun=False.\n",
      "================================\n",
      "Download location = ./data\n",
      "Total number of Member OUSs to download = 3\n",
      "Selected Member OUSs: ['uid://A001/X133d/X325', 'uid://A001/X133d/X327', 'uid://A001/X133d/X21b4']\n",
      "Number of files to download = 4\n",
      "Needed disk space = 48.9 MB\n",
      "File URLs to download = https://almascience.eso.org/dataPortal/member.uid___A001_X133d_X325._G31.41p0.31__sci.spw25_27_29_31.cont.I.tt0.pbcor.fits\n",
      "https://almascience.eso.org/dataPortal/member.uid___A001_X133d_X325._G31.41p0.31__sci.spw25_27_29_31.cont.I.tt1.pbcor.fits\n",
      "https://almascience.eso.org/dataPortal/member.uid___A001_X133d_X327._G31.41p0.31__sci.spw25_27_29_31.cont.I.tt0.pbcor.fits\n",
      "https://almascience.eso.org/dataPortal/member.uid___A001_X133d_X327._G31.41p0.31__sci.spw25_27_29_31.cont.I.tt1.pbcor.fits\n",
      "--------------------------------\n"
     ]
    }
   ],
   "source": [
    "alminer.download_data(observations, fitsonly=True, dryrun=True, location='./data', \n",
    "                      filename_must_include=['_sci', '.pbcor', 'cont', 'G31.41'], \n",
    "                      print_urls=True)"
   ]
  }
 ],
 "metadata": {
  "celltoolbar": "Edit Metadata",
  "kernelspec": {
   "display_name": "Python 3 (ipykernel)",
   "language": "python",
   "name": "python3"
  },
  "language_info": {
   "codemirror_mode": {
    "name": "ipython",
    "version": 3
   },
   "file_extension": ".py",
   "mimetype": "text/x-python",
   "name": "python",
   "nbconvert_exporter": "python",
   "pygments_lexer": "ipython3",
   "version": "3.9.13"
  },
  "nbsphinx": {
   "execute": "never"
  }
 },
 "nbformat": 4,
 "nbformat_minor": 5
}
